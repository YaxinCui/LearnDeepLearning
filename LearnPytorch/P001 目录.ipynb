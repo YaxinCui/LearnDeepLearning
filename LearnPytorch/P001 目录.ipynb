{
 "cells": [
  {
   "cell_type": "markdown",
   "metadata": {},
   "source": [
    "### Pytorch教程目录\n",
    "\n",
    "(官方教程作者翻译的中文版，作者 磐创)\n",
    "\n",
    "官方教程原版下载地址：http://pytorchchina.com/2019/12/02/deep-learning-with-pytorch-pdf/\n",
    "\n",
    "\n",
    "#### Pytorch之60min入门\n",
    "- Pytorch入门\n",
    "- Pytorch自动微分\n",
    "- Pytorch神经网络\n",
    "- Pytorch图像分类器\n",
    "- Pytorch数据并行处理\n",
    "\n",
    "#### Pytorch之入门强化教程\n",
    "- 数据加载和处理\n",
    "- Pytorch小试牛刀\n",
    "- 迁移学习\n",
    "- 混合前端的seq2seq模型部署\n",
    "- 混合前端\n",
    "- 预备环境\n",
    "- 保存和加载模型\n",
    "\n",
    "#### Pytorch之图像篇\n",
    "- 微调基于torchvision 0.3的目标检测模型\n",
    "- 微调TorchVision模型\n",
    "- 空间变换器网络\n",
    "- 使用Pytorch进行Neural-Transfer\n",
    "- 生成对抗示例\n",
    "- 使用ONNX将模型转移至Caffe2和移动端\n",
    "\n",
    "#### Pytorch之文本篇\n",
    "- 聊天机器人教程\n",
    "- 使用字符级RNN生成名字\n",
    "- 使用字符级RNN进行名字分类\n",
    "- 在深度学习和NLP中使用Pytorch\n",
    "- 使用Sequence2Sequence网络和注意力进行翻译\n",
    "\n",
    "#### Pytorch之生成对抗网络\n",
    "- 生成对抗网络\n",
    "\n",
    "#### Pytorch之强化学习\n",
    "- 强化学习\n",
    "\n",
    "#### 生产环境中部署Pytorch模型\n",
    "- 使用Flask来部署Pytorch模型\n",
    "- TorchScript的简介\n",
    "- 在C++中加载TorchScript模型"
   ]
  },
  {
   "cell_type": "code",
   "execution_count": null,
   "metadata": {},
   "outputs": [],
   "source": []
  }
 ],
 "metadata": {
  "kernelspec": {
   "display_name": "Python 3",
   "language": "python",
   "name": "python3"
  },
  "language_info": {
   "codemirror_mode": {
    "name": "ipython",
    "version": 3
   },
   "file_extension": ".py",
   "mimetype": "text/x-python",
   "name": "python",
   "nbconvert_exporter": "python",
   "pygments_lexer": "ipython3",
   "version": "3.6.10"
  }
 },
 "nbformat": 4,
 "nbformat_minor": 4
}
