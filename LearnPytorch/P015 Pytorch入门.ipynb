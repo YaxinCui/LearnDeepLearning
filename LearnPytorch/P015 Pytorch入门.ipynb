{
 "cells": [
  {
   "cell_type": "markdown",
   "metadata": {},
   "source": [
    "#### Pytorch之60min入门\n",
    "- Pytorch入门\n",
    "- Pytorch自动微分\n",
    "- Pytorch神经网络\n",
    "- Pytorch图像分类器\n",
    "- Pytorch数据并行处理"
   ]
  },
  {
   "cell_type": "code",
   "execution_count": 1,
   "metadata": {},
   "outputs": [],
   "source": [
    "# 开始学习\n",
    "\n",
    "from __future__ import print_function\n",
    "import torch"
   ]
  },
  {
   "cell_type": "code",
   "execution_count": 4,
   "metadata": {},
   "outputs": [
    {
     "name": "stdout",
     "output_type": "stream",
     "text": [
      "tensor([[-4.0839e+24,  3.0913e-41,  0.0000e+00],\n",
      "        [ 0.0000e+00,  0.0000e+00,  0.0000e+00],\n",
      "        [ 0.0000e+00,  0.0000e+00,  0.0000e+00],\n",
      "        [ 0.0000e+00,  0.0000e+00,  0.0000e+00],\n",
      "        [-4.0839e+24,  3.0913e-41, -4.0839e+24]])\n",
      "<class 'torch.Tensor'>\n",
      "torch.float32\n"
     ]
    }
   ],
   "source": [
    "x = torch.empty(5, 3)\n",
    "print(x)\n",
    "print(type(x))\n",
    "print(x.dtype)"
   ]
  },
  {
   "cell_type": "code",
   "execution_count": 8,
   "metadata": {},
   "outputs": [
    {
     "name": "stdout",
     "output_type": "stream",
     "text": [
      "tensor([[0.2885, 0.3063, 0.1791],\n",
      "        [0.9699, 0.9497, 0.1003],\n",
      "        [0.8119, 0.2578, 0.1941],\n",
      "        [0.1042, 0.1585, 0.7904],\n",
      "        [0.4160, 0.2125, 0.1010]])\n",
      "<class 'torch.Tensor'>\n",
      "torch.float32\n",
      "tensor([[0.8147, 0.2261, 0.6889],\n",
      "        [0.2031, 0.3969, 0.3911],\n",
      "        [0.7102, 0.3482, 0.8071],\n",
      "        [0.3605, 0.5333, 0.7009],\n",
      "        [0.3742, 0.5598, 0.6429]])\n",
      "<class 'torch.Tensor'>\n",
      "torch.float32\n"
     ]
    }
   ],
   "source": [
    "x = torch.rand(5, 3)\n",
    "# 均匀分布\n",
    "# torch.rand(*sizes, out=None) → Tensor\n",
    "# 返回一个张量，包含了从区间[0, 1)的均匀分布中抽取的一组随机数。张量的形状由参数sizes定义。\n",
    "# sizes (int...) - 整数序列，定义了输出张量的形状\n",
    "\n",
    "print(x)\n",
    "print(type(x))\n",
    "print(x.dtype)\n",
    "\n",
    "x = torch.rand([5, 3])\n",
    "print(x)\n",
    "print(type(x))\n",
    "print(x.dtype)\n",
    "\n",
    "# rand中size即可以是放到rand()中，也可以把size作为一个整体，为一个参数放到rand中。"
   ]
  },
  {
   "cell_type": "code",
   "execution_count": 11,
   "metadata": {},
   "outputs": [
    {
     "name": "stdout",
     "output_type": "stream",
     "text": [
      "tensor([[0., 0., 0.],\n",
      "        [0., 0., 0.],\n",
      "        [0., 0., 0.],\n",
      "        [0., 0., 0.],\n",
      "        [0., 0., 0.]])\n",
      "<class 'torch.Tensor'>\n",
      "torch.float32\n"
     ]
    }
   ],
   "source": [
    "x = torch.zeros((5, 3))\n",
    "\n",
    "print(x)\n",
    "print(type(x))\n",
    "print(x.dtype)\n",
    "\n",
    "# zeros跟rand输入一样\n",
    "# zeros默认参数为float32类型"
   ]
  },
  {
   "cell_type": "code",
   "execution_count": 20,
   "metadata": {},
   "outputs": [
    {
     "name": "stdout",
     "output_type": "stream",
     "text": [
      "tensor([5, 3])\n",
      "<class 'torch.Tensor'>\n",
      "torch.int64\n"
     ]
    }
   ],
   "source": [
    "# 直接使用数据构造张量\n",
    "x = torch.tensor([5.5, 3], dtype=torch.long)\n",
    "print(x)\n",
    "print(type(x))\n",
    "print(x.dtype)\n",
    "# 直接构造张量时，最好指定数据类型，这个过程可能会发生类型强制转换"
   ]
  },
  {
   "cell_type": "code",
   "execution_count": 21,
   "metadata": {},
   "outputs": [
    {
     "name": "stdout",
     "output_type": "stream",
     "text": [
      "tensor([[1, 1, 1],\n",
      "        [1, 1, 1],\n",
      "        [1, 1, 1],\n",
      "        [1, 1, 1],\n",
      "        [1, 1, 1]])\n",
      "<class 'torch.Tensor'>\n",
      "torch.int64\n",
      "tensor([[-2.2749,  0.4905, -0.9998],\n",
      "        [-1.5918, -2.7787, -1.0422],\n",
      "        [-1.1920, -0.1225, -1.3978],\n",
      "        [-0.7128, -0.0299, -0.2429],\n",
      "        [ 0.0595,  0.0061, -0.1439]])\n",
      "tensor([[-2.2749,  0.4905, -0.9998],\n",
      "        [-1.5918, -2.7787, -1.0422],\n",
      "        [-1.1920, -0.1225, -1.3978],\n",
      "        [-0.7128, -0.0299, -0.2429],\n",
      "        [ 0.0595,  0.0061, -0.1439]])\n",
      "<class 'torch.Tensor'>\n",
      "torch.float32\n"
     ]
    }
   ],
   "source": [
    "# 创建一个tensor基于已经存在的tensor\n",
    "\n",
    "x = x.new_ones((5, 3))\n",
    "# 新的（左边的）x，它的属性比如device和dtype是继承了原来的（右边的）张量x的。\n",
    "print(x)\n",
    "print(type(x))\n",
    "print(x.dtype)\n",
    "\n",
    "x = torch.randn_like(x, dtype=torch.float)\n",
    "# randn --> rand normal 正态分布\n",
    "print(x)\n",
    "print(x)\n",
    "print(type(x))\n",
    "print(x.dtype)"
   ]
  },
  {
   "cell_type": "code",
   "execution_count": 22,
   "metadata": {},
   "outputs": [
    {
     "name": "stdout",
     "output_type": "stream",
     "text": [
      "tensor([[-2.2172,  1.4009, -0.6825],\n",
      "        [-0.6359, -2.3164, -0.7486],\n",
      "        [-0.9350,  0.7705, -1.3611],\n",
      "        [-0.6352,  0.2752,  0.1778],\n",
      "        [ 0.4400,  0.7072,  0.2995]])\n"
     ]
    }
   ],
   "source": [
    "# 接下来的例子中，我们将会看到加法操作\n",
    "y = torch.rand((5, 3))\n",
    "print(x + y)"
   ]
  },
  {
   "cell_type": "code",
   "execution_count": 23,
   "metadata": {},
   "outputs": [
    {
     "name": "stdout",
     "output_type": "stream",
     "text": [
      "tensor([[-2.2172,  1.4009, -0.6825],\n",
      "        [-0.6359, -2.3164, -0.7486],\n",
      "        [-0.9350,  0.7705, -1.3611],\n",
      "        [-0.6352,  0.2752,  0.1778],\n",
      "        [ 0.4400,  0.7072,  0.2995]])\n"
     ]
    }
   ],
   "source": [
    "print(torch.add(x, y))"
   ]
  },
  {
   "cell_type": "code",
   "execution_count": 25,
   "metadata": {},
   "outputs": [
    {
     "name": "stdout",
     "output_type": "stream",
     "text": [
      "tensor([[-2.2172,  1.4009, -0.6825],\n",
      "        [-0.6359, -2.3164, -0.7486],\n",
      "        [-0.9350,  0.7705, -1.3611],\n",
      "        [-0.6352,  0.2752,  0.1778],\n",
      "        [ 0.4400,  0.7072,  0.2995]])\n"
     ]
    }
   ],
   "source": [
    "result = torch.empty(5, 3)\n",
    "torch.add(x, y, out=result)\n",
    "print(result)"
   ]
  },
  {
   "cell_type": "code",
   "execution_count": 26,
   "metadata": {},
   "outputs": [
    {
     "name": "stdout",
     "output_type": "stream",
     "text": [
      "tensor([[-2.2172,  1.4009, -0.6825],\n",
      "        [-0.6359, -2.3164, -0.7486],\n",
      "        [-0.9350,  0.7705, -1.3611],\n",
      "        [-0.6352,  0.2752,  0.1778],\n",
      "        [ 0.4400,  0.7072,  0.2995]])\n"
     ]
    }
   ],
   "source": [
    "# 加法 in-place\n",
    "y.add_(x)\n",
    "# y的值改变了\n",
    "print(y)\n",
    "\n",
    "# ⭐任何使张量会发生变化的操作都有一个前缀 ‘’。例如：x.copy_(y), x.t_(), 将会改变 x."
   ]
  },
  {
   "cell_type": "code",
   "execution_count": 27,
   "metadata": {},
   "outputs": [
    {
     "name": "stdout",
     "output_type": "stream",
     "text": [
      "tensor([ 0.4905, -2.7787, -0.1225, -0.0299,  0.0061])\n"
     ]
    }
   ],
   "source": [
    "# 使用标准numpy类似的索引操作\n",
    "print(x[:, 1])"
   ]
  },
  {
   "cell_type": "code",
   "execution_count": 29,
   "metadata": {},
   "outputs": [
    {
     "name": "stdout",
     "output_type": "stream",
     "text": [
      "torch.int64\n",
      "torch.float32\n",
      "torch.float32\n"
     ]
    }
   ],
   "source": [
    "x = torch.tensor([[1,2], [3,4], [5,6]])\n",
    "y = torch.rand((3,2))\n",
    "print(x.dtype)\n",
    "print(y.dtype)\n",
    "y.copy_(x)\n",
    "print(y.dtype)\n",
    "# copy_只复制值，不改变tensor类型"
   ]
  },
  {
   "cell_type": "code",
   "execution_count": 31,
   "metadata": {},
   "outputs": [
    {
     "name": "stdout",
     "output_type": "stream",
     "text": [
      "torch.Size([4, 4]) torch.Size([16]) torch.Size([2, 8])\n"
     ]
    }
   ],
   "source": [
    "x = torch.randn((4, 4))\n",
    "y = x.view(16)\n",
    "z = x.view(-1, 8)\n",
    "print(x.size(), y.size(), z.size())"
   ]
  },
  {
   "cell_type": "code",
   "execution_count": 32,
   "metadata": {},
   "outputs": [
    {
     "name": "stdout",
     "output_type": "stream",
     "text": [
      "tensor([-1.5200])\n",
      "-1.5200132131576538\n"
     ]
    }
   ],
   "source": [
    "x = torch.randn(1)\n",
    "print(x)\n",
    "print(x.item())"
   ]
  },
  {
   "cell_type": "markdown",
   "metadata": {},
   "source": [
    "### P21 Pytorch自动微分"
   ]
  },
  {
   "cell_type": "markdown",
   "metadata": {},
   "source": [
    "#### 从tensor和gradients来举一些例子\n",
    "\n",
    "1. Tensor"
   ]
  },
  {
   "cell_type": "code",
   "execution_count": 37,
   "metadata": {},
   "outputs": [],
   "source": [
    "# 如果将其属性 .requires_grad设置为True，会跟踪对其的所有操作，完成计算后，调用.backward()来自动计算所有梯度。\n",
    "# 在.grad属性中。\n",
    "# 如果要停止tensor历史记录的跟踪，调用 .detach()，将与计算历史记录分离，防止将来的计算被跟踪\n",
    "\n",
    "# 如果用户自己创建张量，则grad_fn是None。\n",
    "# 计算导数，可以调用Tensor.backward()。如果Tensor是标量，则不需要指定任何参数backward()，如果有更多元素，则需要指定一个gradient参数来指定张量的形状"
   ]
  },
  {
   "cell_type": "code",
   "execution_count": 38,
   "metadata": {},
   "outputs": [
    {
     "name": "stdout",
     "output_type": "stream",
     "text": [
      "tensor([[1., 1.],\n",
      "        [1., 1.]], requires_grad=True)\n"
     ]
    }
   ],
   "source": [
    "import torch\n",
    "\n",
    "x = torch.ones(2, 2, requires_grad=True)\n",
    "print(x)"
   ]
  },
  {
   "cell_type": "code",
   "execution_count": 40,
   "metadata": {},
   "outputs": [
    {
     "name": "stdout",
     "output_type": "stream",
     "text": [
      "None\n",
      "None\n"
     ]
    }
   ],
   "source": [
    "x1 = torch.ones(2, 2)\n",
    "print(x1.grad)\n",
    "print(x.grad)"
   ]
  },
  {
   "cell_type": "code",
   "execution_count": 42,
   "metadata": {},
   "outputs": [
    {
     "name": "stdout",
     "output_type": "stream",
     "text": [
      "tensor([[3., 3.],\n",
      "        [3., 3.]], grad_fn=<AddBackward0>)\n",
      "None\n",
      "<AddBackward0 object at 0x7efc0c191e80>\n"
     ]
    },
    {
     "name": "stderr",
     "output_type": "stream",
     "text": [
      "/root/anaconda3/envs/cui/lib/python3.6/site-packages/ipykernel_launcher.py:3: UserWarning: The .grad attribute of a Tensor that is not a leaf Tensor is being accessed. Its .grad attribute won't be populated during autograd.backward(). If you indeed want the gradient for a non-leaf Tensor, use .retain_grad() on the non-leaf Tensor. If you access the non-leaf Tensor by mistake, make sure you access the leaf Tensor instead. See github.com/pytorch/pytorch/pull/30531 for more informations.\n",
      "  This is separate from the ipykernel package so we can avoid doing imports until\n"
     ]
    }
   ],
   "source": [
    "y = x + 2\n",
    "print(y)\n",
    "print(y.grad)\n",
    "print(y.grad_fn)"
   ]
  },
  {
   "cell_type": "code",
   "execution_count": 44,
   "metadata": {},
   "outputs": [
    {
     "name": "stdout",
     "output_type": "stream",
     "text": [
      "tensor([[27., 27.],\n",
      "        [27., 27.]], grad_fn=<MulBackward0>)\n",
      "tensor(27., grad_fn=<MeanBackward0>)\n"
     ]
    }
   ],
   "source": [
    "z = y * y * 3\n",
    "out = z.mean()\n",
    "\n",
    "print(z)\n",
    "print(out)"
   ]
  },
  {
   "cell_type": "code",
   "execution_count": 47,
   "metadata": {},
   "outputs": [
    {
     "name": "stdout",
     "output_type": "stream",
     "text": [
      "False\n"
     ]
    }
   ],
   "source": [
    "a = torch.randn(2, 2)\n",
    "a = ((a * 3)/ (a - 1))\n",
    "print(a.requires_grad)"
   ]
  },
  {
   "cell_type": "code",
   "execution_count": 48,
   "metadata": {},
   "outputs": [
    {
     "name": "stdout",
     "output_type": "stream",
     "text": [
      "True\n",
      "<SumBackward0 object at 0x7efc0c13f860>\n"
     ]
    }
   ],
   "source": [
    "# 设置为True\n",
    "a.requires_grad_(True)\n",
    "print(a.requires_grad)\n",
    "b = (a * a).sum()\n",
    "print(b.grad_fn)"
   ]
  },
  {
   "cell_type": "code",
   "execution_count": 49,
   "metadata": {},
   "outputs": [],
   "source": [
    "out.backward()"
   ]
  },
  {
   "cell_type": "code",
   "execution_count": 50,
   "metadata": {},
   "outputs": [
    {
     "name": "stdout",
     "output_type": "stream",
     "text": [
      "tensor([[4.5000, 4.5000],\n",
      "        [4.5000, 4.5000]])\n"
     ]
    }
   ],
   "source": [
    "print(x.grad)"
   ]
  },
  {
   "cell_type": "code",
   "execution_count": 57,
   "metadata": {},
   "outputs": [
    {
     "name": "stdout",
     "output_type": "stream",
     "text": [
      "tensor([-1101.4774,  -381.2802,   408.5808], grad_fn=<MulBackward0>)\n"
     ]
    }
   ],
   "source": [
    "x = torch.randn(3, requires_grad=True)\n",
    "\n",
    "y = x * 2\n",
    "while y.data.norm() < 1000:\n",
    "    # .data.norm()，把y变成一个没有grad的tensor，再求y的二范式\n",
    "    y = y * 2\n",
    "\n",
    "print(y)"
   ]
  },
  {
   "cell_type": "code",
   "execution_count": 61,
   "metadata": {},
   "outputs": [
    {
     "name": "stdout",
     "output_type": "stream",
     "text": [
      "True\n",
      "True\n",
      "False\n"
     ]
    }
   ],
   "source": [
    "x.requires_grad_(True)\n",
    "print(x.requires_grad)\n",
    "print((x**2).requires_grad)\n",
    "\n",
    "with torch.no_grad():\n",
    "    print((x**2).requires_grad)"
   ]
  },
  {
   "cell_type": "markdown",
   "metadata": {},
   "source": [
    "### P26 Pytorch神经网络"
   ]
  },
  {
   "cell_type": "code",
   "execution_count": 62,
   "metadata": {},
   "outputs": [],
   "source": [
    "# 神经网络是基于自动梯度来定义一些模型。一个nn.Module包括层和一个方法forward(input)，它会返回输出Output"
   ]
  },
  {
   "cell_type": "code",
   "execution_count": 74,
   "metadata": {},
   "outputs": [
    {
     "name": "stdout",
     "output_type": "stream",
     "text": [
      "Net(\n",
      "  (conv1): Conv2d(1, 6, kernel_size=(5, 5), stride=(1, 1))\n",
      "  (conv2): Conv2d(6, 16, kernel_size=(5, 5), stride=(1, 1))\n",
      "  (fc1): Linear(in_features=400, out_features=120, bias=True)\n",
      "  (fc2): Linear(in_features=120, out_features=84, bias=True)\n",
      "  (fc3): Linear(in_features=84, out_features=10, bias=True)\n",
      ")\n"
     ]
    }
   ],
   "source": [
    "import torch\n",
    "import torch.nn as nn\n",
    "import torch.nn.functional as F\n",
    "\n",
    "class Net(nn.Module):\n",
    "    def __init__(self):\n",
    "        super(Net, self).__init__()\n",
    "        # 1 input image chanel, 6 output channels, 5 x 5square convolution\n",
    "        self.conv1 = nn.Conv2d(1, 6, 5) # inchannel 1, outchannel 6, kernel size 5\n",
    "        self.conv2 = nn.Conv2d(6, 16, 5)\n",
    "        \n",
    "        self.fc1 = nn.Linear(16 * 5 * 5, 120)\n",
    "        self.fc2 = nn.Linear(120, 84)\n",
    "        self.fc3 = nn.Linear(84, 10)\n",
    "        \n",
    "    def forward(self, x):\n",
    "        # x size: _, 1, 32, 32\n",
    "        x = F.max_pool2d(F.relu(self.conv1(x)), (2, 2)) # (32 - 5)/1 + 1 =  --> _, 6, 28, 28, -> _, 6, 14, 14\n",
    "        x = F.max_pool2d(F.relu(self.conv2(x)), 2) # (14 - 5) / 1 + 1=19 --> _, 16, 10, 10 --> _, 16, 5, 5\n",
    "        x = x.view(-1, self.num_flat_features(x)) # _, 400\n",
    "        x = F.relu(self.fc1(x)) # --> _, 120,\n",
    "        x = F.relu(self.fc2(x)) # --> _, 84\n",
    "        x = self.fc3(x) # --> _, 10\n",
    "        \n",
    "        return x\n",
    "    \n",
    "    def num_flat_features(self, x):\n",
    "        size = x.size()[1:]\n",
    "        num_features = 1\n",
    "        for s in size:\n",
    "            num_features *= s\n",
    "        return num_features\n",
    "    \n",
    "net = Net()\n",
    "print(net)\n",
    "# 在pytorch的卷积过程中，当通过N = (W − F + 2P ) / S + 1计算式得到的输出尺寸非整数时，\n",
    "# 会通过删除多余的行和列来保证卷积的输出尺寸为整数"
   ]
  },
  {
   "cell_type": "code",
   "execution_count": 75,
   "metadata": {},
   "outputs": [
    {
     "name": "stdout",
     "output_type": "stream",
     "text": [
      "10\n",
      "torch.Size([6, 1, 5, 5])\n"
     ]
    }
   ],
   "source": [
    "params = list(net.parameters())\n",
    "print(len(params))\n",
    "print(params[0].size()) # conv1's .weight"
   ]
  },
  {
   "cell_type": "code",
   "execution_count": 76,
   "metadata": {},
   "outputs": [
    {
     "data": {
      "text/plain": [
       "Parameter containing:\n",
       "tensor([[[[ 0.1951, -0.1126,  0.0487,  0.1634, -0.1889],\n",
       "          [ 0.1660, -0.1509,  0.1881, -0.0223, -0.0143],\n",
       "          [-0.0240, -0.0604,  0.1520, -0.1383,  0.1987],\n",
       "          [-0.0433, -0.0164,  0.0261, -0.1534,  0.0458],\n",
       "          [-0.0803, -0.0131,  0.0541, -0.0180,  0.0996]]],\n",
       "\n",
       "\n",
       "        [[[ 0.1379,  0.1165,  0.0584, -0.1197,  0.1560],\n",
       "          [ 0.0766,  0.1446, -0.1914,  0.0846,  0.1171],\n",
       "          [ 0.1469, -0.1266,  0.1765, -0.1844,  0.1679],\n",
       "          [ 0.1095, -0.0369, -0.0543, -0.0620, -0.1433],\n",
       "          [ 0.1977, -0.1429, -0.0948, -0.0804,  0.1073]]],\n",
       "\n",
       "\n",
       "        [[[-0.1702, -0.1612, -0.1805, -0.1420,  0.1379],\n",
       "          [-0.0530,  0.1708,  0.0544,  0.0855, -0.1641],\n",
       "          [-0.0206, -0.1442,  0.1747, -0.0087, -0.1463],\n",
       "          [ 0.1513,  0.1680,  0.1557, -0.1229,  0.1882],\n",
       "          [ 0.1669,  0.1436,  0.0882, -0.1070,  0.0816]]],\n",
       "\n",
       "\n",
       "        [[[-0.1099, -0.0248,  0.1017,  0.0763,  0.1607],\n",
       "          [-0.0322, -0.0263,  0.1227,  0.0278,  0.1860],\n",
       "          [-0.0351, -0.1496,  0.1740, -0.0557,  0.1882],\n",
       "          [ 0.1728, -0.1436,  0.1994, -0.0039,  0.0851],\n",
       "          [ 0.1549, -0.0167,  0.0013, -0.1865, -0.0812]]],\n",
       "\n",
       "\n",
       "        [[[-0.0019, -0.1508,  0.0058, -0.1157, -0.1170],\n",
       "          [ 0.0834,  0.0429, -0.1027, -0.0639,  0.1802],\n",
       "          [ 0.1039, -0.1671,  0.0709, -0.1999,  0.0078],\n",
       "          [ 0.1201,  0.1589,  0.0079, -0.0877, -0.1544],\n",
       "          [-0.0007,  0.1043,  0.1811, -0.0489,  0.0241]]],\n",
       "\n",
       "\n",
       "        [[[ 0.1949,  0.0579,  0.0898, -0.0532,  0.0088],\n",
       "          [-0.0966,  0.0923, -0.1205, -0.0077,  0.1321],\n",
       "          [-0.1057,  0.0057, -0.1040, -0.0062,  0.1712],\n",
       "          [-0.0248, -0.1897,  0.1162,  0.0105, -0.1841],\n",
       "          [-0.1579, -0.1731, -0.1687,  0.0618,  0.1036]]]], requires_grad=True)"
      ]
     },
     "execution_count": 76,
     "metadata": {},
     "output_type": "execute_result"
    }
   ],
   "source": [
    "params[0]"
   ]
  },
  {
   "cell_type": "code",
   "execution_count": 77,
   "metadata": {},
   "outputs": [
    {
     "name": "stdout",
     "output_type": "stream",
     "text": [
      "tensor([[ 0.0744,  0.0978, -0.0166, -0.0207, -0.0494,  0.0427, -0.0432, -0.0505,\n",
      "         -0.0037,  0.0928]], grad_fn=<AddmmBackward>)\n"
     ]
    }
   ],
   "source": [
    "inputs = torch.randn(1, 1, 32, 32)\n",
    "out = net(inputs)\n",
    "print(out)"
   ]
  },
  {
   "cell_type": "code",
   "execution_count": 78,
   "metadata": {},
   "outputs": [],
   "source": [
    "net.zero_grad()\n",
    "out.backward(torch.randn(1, 10))"
   ]
  },
  {
   "cell_type": "code",
   "execution_count": 82,
   "metadata": {},
   "outputs": [
    {
     "name": "stdout",
     "output_type": "stream",
     "text": [
      "torch.Size([1, 10])\n"
     ]
    }
   ],
   "source": [
    "output = net(inputs)\n",
    "target = torch.randn((1, 10))\n",
    "print(target.size())"
   ]
  },
  {
   "cell_type": "code",
   "execution_count": 86,
   "metadata": {},
   "outputs": [],
   "source": [
    "criterion = nn.MSELoss()"
   ]
  },
  {
   "cell_type": "code",
   "execution_count": 87,
   "metadata": {},
   "outputs": [
    {
     "name": "stdout",
     "output_type": "stream",
     "text": [
      "tensor(1.3309, grad_fn=<MseLossBackward>)\n"
     ]
    }
   ],
   "source": [
    "loss = criterion(output, target)\n",
    "print(loss)"
   ]
  },
  {
   "cell_type": "code",
   "execution_count": 89,
   "metadata": {},
   "outputs": [
    {
     "name": "stdout",
     "output_type": "stream",
     "text": [
      "<MseLossBackward object at 0x7efc0b8d7748>\n",
      "(<AddmmBackward object at 0x7efc0b8d75f8>, 0)\n",
      "<AddmmBackward object at 0x7efc0b8d7748>\n",
      "<AccumulateGrad object at 0x7efc0b8d75f8>\n"
     ]
    }
   ],
   "source": [
    "# input -> conv2d -> relu -> maxpool2d --> conv2d --> relu --> maxpool2d\n",
    "# --> view --> linear --> relu --> linear --> relu --> linear\n",
    "# --> MSELoss\n",
    "# --> loss\n",
    "\n",
    "print(loss.grad_fn) # MSELoss\n",
    "print(loss.grad_fn.next_functions[0])\n",
    "print(loss.grad_fn.next_functions[0][0])  # Linear\n",
    "print(loss.grad_fn.next_functions[0][0].next_functions[0][0]) # RELU"
   ]
  },
  {
   "cell_type": "code",
   "execution_count": 90,
   "metadata": {},
   "outputs": [
    {
     "name": "stdout",
     "output_type": "stream",
     "text": [
      "conv1.bias.grad before backward\n",
      "tensor([0., 0., 0., 0., 0., 0.])\n",
      "conv1.bias.grad after backward\n",
      "tensor([-0.0101,  0.0086,  0.0225,  0.0019,  0.0090, -0.0202])\n"
     ]
    }
   ],
   "source": [
    "net.zero_grad()\n",
    "\n",
    "print('conv1.bias.grad before backward')\n",
    "print(net.conv1.bias.grad)\n",
    "\n",
    "loss.backward()\n",
    "print('conv1.bias.grad after backward')\n",
    "print(net.conv1.bias.grad)"
   ]
  },
  {
   "cell_type": "code",
   "execution_count": 92,
   "metadata": {},
   "outputs": [],
   "source": [
    "import torch.optim as optim\n",
    "# create your optimizer\n",
    "optimizer = optim.SGD(net.parameters(), lr=0.01)\n",
    "# in your training loop:\n",
    "optimizer.zero_grad() # zero the gradient buffers\n",
    "output = net(inputs)\n",
    "loss = criterion(output, target)\n",
    "loss.backward()\n",
    "optimizer.step() # Does the update"
   ]
  },
  {
   "cell_type": "markdown",
   "metadata": {},
   "source": [
    "#### Pytorch 图像分类器\n",
    "\n",
    "numpy数据转换为torch.*Tensor\n",
    "- 对于图像，可以用Pillow, OpenCV\n",
    "- 对于语音，可以用scipy, librosa\n",
    "- 对于文本，可以用python，cython基础数据加载模块，或者用nltk和spacy\n",
    "\n",
    "\n",
    "##### 对于视觉，利用好torchvision包，torchvision.datasets，和支持加载图像数据转换模块 torch.utils.data.DataLoader\n",
    "\n",
    "cifar10 数据集包含10类 :‘airplane’, ‘automobile’, ‘bird’, ‘cat’, ‘deer’, ‘dog’, ‘frog’, ‘horse’, ‘ship’, ‘truck， 图像尺寸为3*32*32"
   ]
  },
  {
   "cell_type": "code",
   "execution_count": 93,
   "metadata": {},
   "outputs": [],
   "source": [
    "import torch\n",
    "import torchvision\n",
    "import torchvision.transforms as transforms"
   ]
  },
  {
   "cell_type": "code",
   "execution_count": 98,
   "metadata": {},
   "outputs": [
    {
     "name": "stdout",
     "output_type": "stream",
     "text": [
      " 1 \n",
      " 2 \n"
     ]
    }
   ],
   "source": [
    "# torchvision数据集的输出范围在[0, 1]之间的PILImage，我们将他们转换成归一化范围为[-1, 1]之间的tensor\n",
    "\n",
    "# ToTensor()能够把灰度范围从0-255变换到0-1之间\n",
    "# 后面的transform.Normalize()则把0-1变换到(-1,1).具体地说，对每个通道而言，Normalize执行以下操作：\n",
    "# image=(image-mean)/std\n",
    "# 其中mean和std分别通过(0.5,0.5,0.5)和(0.5,0.5,0.5)进行指定。原来的0-1最小值0则变成(0-0.5)/0.5=-1，而最大值1则变成(1-0.5)/0.5=1.\n",
    "\n",
    "transform = transforms.Compose([transforms.ToTensor(), transforms.Normalize((0.5, 0.5, 0.5), (0.5, 0.5, 0.5))])\n",
    "\n",
    "# trainset = torchvision.datasets.CIFAR10(root='./data', train=True, download=False, transform=transform)\n",
    "# testset = torchvision.datasets.CIFAR10(root='./data', train=False,  download=False, transform=transform)\n",
    "\n",
    "trainset = torchvision.datasets.CIFAR10(root='./data', train=True, download=False, transform=transform)\n",
    "testset = torchvision.datasets.CIFAR10(root='./data', train=False,  download=False, transform=transform)\n",
    "\n",
    "trainloader = torch.utils.data.DataLoader(trainset, batch_size=4, shuffle=True, num_workers=2)\n",
    "testloader = torch.utils.data.DataLoader(testset, batch_size=4,  shuffle=False, num_workers=2)\n",
    "\n",
    "classes = ('plane', 'car', 'bird', 'cat', 'deer', 'dog', 'frog', 'horse', 'ship', 'truck')\n",
    "\n",
    "# 数据下载链接 https://www.cs.toronto.edu/~kriz/cifar-10-python.tar.gz"
   ]
  },
  {
   "cell_type": "code",
   "execution_count": 100,
   "metadata": {},
   "outputs": [
    {
     "data": {
      "image/png": "[encoded data removed]",
      "text/plain": [
       "<Figure size 432x288 with 1 Axes>"
      ]
     },
     "metadata": {
      "needs_background": "light"
     },
     "output_type": "display_data"
    },
    {
     "name": "stdout",
     "output_type": "stream",
     "text": [
      "truck  ship  frog   dog\n"
     ]
    }
   ],
   "source": [
    "import matplotlib.pyplot as plt\n",
    "import numpy as np\n",
    "\n",
    "def imshow(img):\n",
    "    # 输入是什么\n",
    "    img =img / 2 + 0.5\n",
    "    npimg = img.numpy()\n",
    "    plt.imshow(np.transpose(npimg, (1, 2, 0)))\n",
    "    # plt imshow的第三个维度是图像通道，img是tensor/numpy，第一个维度是图像通道\n",
    "    plt.show()\n",
    "    \n",
    "dataiter = iter(trainloader)\n",
    "images, labels = dataiter.next()\n",
    "\n",
    "imshow(torchvision.utils.make_grid(images, nrow=2))\n",
    "# 将若干个图像拼接为1个图像\n",
    "\n",
    "print(' '.join('%5s' % classes[labels[j]] for j in range(4)))"
   ]
  },
  {
   "cell_type": "code",
   "execution_count": 108,
   "metadata": {},
   "outputs": [],
   "source": [
    "import torch.nn as nn\n",
    "import torch.nn.functional as F\n",
    "\n",
    "class Net(nn.Module):\n",
    "    def __init__(self):\n",
    "        super(Net, self).__init__()\n",
    "        self.conv1 = nn.Conv2d(3, 6, 5)\n",
    "        self.pool = nn.MaxPool2d(2, 2)\n",
    "        self.conv2 = nn.Conv2d(6, 16, 5)\n",
    "        self.fc1 = nn.Linear(16 * 5 * 5, 120)\n",
    "        self.fc2 = nn.Linear(120, 84)\n",
    "        self.fc3 = nn.Linear(84, 10)\n",
    "    \n",
    "    def forward(self, x):\n",
    "        # input 3 x 32 x 32\n",
    "        x = self.pool(F.relu(self.conv1(x))) # (32-5)/1 + 1 --> 6 x 28 x 28 --> 6 x 14 x 14\n",
    "        x = self.pool(F.relu(self.conv2(x))) # (14-5)/1 + 1  -->16 x 10 x 10 --> 16 x 5 x 5 \n",
    "        x = x.view(-1, 16 * 5 * 5) # --> 400\n",
    "        x = F.relu(self.fc1(x)) # --> 120\n",
    "        x = F.relu(self.fc2(x)) # --> 84\n",
    "        x = self.fc3(x) # --> 10\n",
    "        x = F.softmax(x, dim=1)\n",
    "        return x\n",
    "    \n",
    "    # relu, pool这些没有重复参数的都可以重用\n",
    "\n",
    "net = Net()"
   ]
  },
  {
   "cell_type": "code",
   "execution_count": 109,
   "metadata": {},
   "outputs": [],
   "source": [
    "import torch.optim as optim\n",
    "criterion = nn.CrossEntropyLoss()\n",
    "optimizer = optim.SGD(net.parameters(), lr=0.001, momentum=0.9)\n",
    "# sgd参数 lr一般为0.001，mementum一般为0.9\n"
   ]
  },
  {
   "cell_type": "code",
   "execution_count": 110,
   "metadata": {},
   "outputs": [
    {
     "name": "stdout",
     "output_type": "stream",
     "text": [
      "[1,  2000] loss: 2.302620\n",
      "[1,  4000] loss: 2.302470\n",
      "[1,  6000] loss: 2.302305\n",
      "[1,  8000] loss: 2.301924\n",
      "[1, 10000] loss: 2.301143\n",
      "[1, 12000] loss: 2.297501\n",
      "Finished Training\n",
      "[2,  2000] loss: 2.227906\n",
      "[2,  4000] loss: 2.183197\n",
      "[2,  6000] loss: 2.164254\n",
      "[2,  8000] loss: 2.158895\n",
      "[2, 10000] loss: 2.147373\n",
      "[2, 12000] loss: 2.121784\n",
      "Finished Training\n",
      "[3,  2000] loss: 2.115984\n",
      "[3,  4000] loss: 2.106554\n",
      "[3,  6000] loss: 2.085442\n",
      "[3,  8000] loss: 2.088938\n",
      "[3, 10000] loss: 2.080058\n",
      "[3, 12000] loss: 2.068248\n",
      "Finished Training\n",
      "[4,  2000] loss: 2.050469\n",
      "[4,  4000] loss: 2.055539\n",
      "[4,  6000] loss: 2.057812\n",
      "[4,  8000] loss: 2.042878\n",
      "[4, 10000] loss: 2.040424\n",
      "[4, 12000] loss: 2.043264\n",
      "Finished Training\n",
      "[5,  2000] loss: 2.027760\n",
      "[5,  4000] loss: 2.014304\n",
      "[5,  6000] loss: 2.020064\n",
      "[5,  8000] loss: 2.013200\n",
      "[5, 10000] loss: 2.006042\n",
      "[5, 12000] loss: 2.004417\n",
      "Finished Training\n",
      "[6,  2000] loss: 1.993767\n",
      "[6,  4000] loss: 1.988123\n",
      "[6,  6000] loss: 1.977470\n",
      "[6,  8000] loss: 1.980500\n",
      "[6, 10000] loss: 1.983575\n",
      "[6, 12000] loss: 1.976283\n",
      "Finished Training\n",
      "[7,  2000] loss: 1.962455\n",
      "[7,  4000] loss: 1.952637\n",
      "[7,  6000] loss: 1.957811\n",
      "[7,  8000] loss: 1.956968\n",
      "[7, 10000] loss: 1.947227\n",
      "[7, 12000] loss: 1.956596\n",
      "Finished Training\n",
      "[8,  2000] loss: 1.929539\n",
      "[8,  4000] loss: 1.945182\n",
      "[8,  6000] loss: 1.947562\n",
      "[8,  8000] loss: 1.942736\n",
      "[8, 10000] loss: 1.941675\n",
      "[8, 12000] loss: 1.934949\n",
      "Finished Training\n",
      "[9,  2000] loss: 1.925361\n",
      "[9,  4000] loss: 1.932041\n",
      "[9,  6000] loss: 1.934659\n",
      "[9,  8000] loss: 1.930889\n",
      "[9, 10000] loss: 1.929351\n",
      "[9, 12000] loss: 1.923882\n",
      "Finished Training\n",
      "[10,  2000] loss: 1.915105\n",
      "[10,  4000] loss: 1.914631\n",
      "[10,  6000] loss: 1.913434\n",
      "[10,  8000] loss: 1.920923\n",
      "[10, 10000] loss: 1.921836\n",
      "[10, 12000] loss: 1.918038\n",
      "Finished Training\n"
     ]
    }
   ],
   "source": [
    "for epoch in range(5): # loop over the dataset multiple times\n",
    "    running_loss = 0.0\n",
    "    for i, data in enumerate(trainloader, 0):\n",
    "        inputs, labels = data\n",
    "        \n",
    "        optimizer.zero_grad()\n",
    "        # 或者 net.zero_grad()，一般使用optimizer.zero_grad\n",
    "        \n",
    "        outputs = net(inputs)\n",
    "        loss = criterion(outputs, labels)\n",
    "        loss.backward()\n",
    "        optimizer.step()\n",
    "        \n",
    "        running_loss += loss.item()\n",
    "        if i % 2000 == 1999: # print every 2000 mini-batches\n",
    "            print('[%d, %5d] loss: %.6f' % (epoch + 1, i + 1, running_loss / 2000))\n",
    "            running_loss = 0.0\n",
    "    print('Finished Training')"
   ]
  },
  {
   "cell_type": "code",
   "execution_count": 111,
   "metadata": {},
   "outputs": [
    {
     "data": {
      "image/png": "[encoded data removed]",
      "text/plain": [
       "<Figure size 432x288 with 1 Axes>"
      ]
     },
     "metadata": {
      "needs_background": "light"
     },
     "output_type": "display_data"
    },
    {
     "name": "stdout",
     "output_type": "stream",
     "text": [
      " deer   car   car plane\n",
      "tensor([0.8411, 0.9916, 0.5082, 1.0000], grad_fn=<MaxBackward0>)\n",
      "truckpredicted   catpredicted  deerpredicted   dog\n"
     ]
    }
   ],
   "source": [
    "imshow(torchvision.utils.make_grid(images, nrow=2))\n",
    "# 将若干个图像拼接为1个图像\n",
    "print(' '.join('%5s' % classes[labels[j]] for j in range(4)))\n",
    "\n",
    "outputs = net(images)\n",
    "\n",
    "_, predicted = torch.max(outputs, dim=1)\n",
    "print(_)\n",
    "\n",
    "print('predicted '.join('%5s' % classes[predicted[j]] for j in range(4)))\n"
   ]
  },
  {
   "cell_type": "code",
   "execution_count": 112,
   "metadata": {},
   "outputs": [
    {
     "name": "stdout",
     "output_type": "stream",
     "text": [
      "Accuracy of the network on the 10000 test images: 53 %\n"
     ]
    }
   ],
   "source": [
    "correct = 0\n",
    "total = 0\n",
    "with torch.no_grad():\n",
    "    for data in testloader:\n",
    "        images, labels = data\n",
    "        outputs = net(images)\n",
    "        _, predicted = torch.max(outputs.data, 1)\n",
    "        total += labels.size(0)\n",
    "        correct += (predicted == labels).sum().item()\n",
    "    print('Accuracy of the network on the 10000 test images: %d %%' % (100 * correct / total))"
   ]
  },
  {
   "cell_type": "code",
   "execution_count": 113,
   "metadata": {},
   "outputs": [
    {
     "name": "stdout",
     "output_type": "stream",
     "text": [
      "Accuracy of plane : 58 %\n",
      "Accuracy of   car : 67 %\n",
      "Accuracy of  bird : 34 %\n",
      "Accuracy of   cat : 28 %\n",
      "Accuracy of  deer : 38 %\n",
      "Accuracy of   dog : 40 %\n",
      "Accuracy of  frog : 74 %\n",
      "Accuracy of horse : 63 %\n",
      "Accuracy of  ship : 57 %\n",
      "Accuracy of truck : 69 %\n"
     ]
    }
   ],
   "source": [
    "class_correct = list(0. for i in range(10))\n",
    "class_total = list(0. for i in range(10))\n",
    "with torch.no_grad():\n",
    "    for data in testloader:\n",
    "        images, labels = data\n",
    "        outputs = net(images)\n",
    "        _, predicted = torch.max(outputs, 1)\n",
    "        c = (predicted == labels).squeeze()\n",
    "        for i in range(4):\n",
    "            label = labels[i]\n",
    "            class_correct[label] += c[i].item()\n",
    "            class_total[label] += 1\n",
    "for i in range(10):\n",
    "    print('Accuracy of %5s : %2d %%' % ( classes[i], 100 * class_correct[i] / class_total[i]))"
   ]
  },
  {
   "cell_type": "code",
   "execution_count": 114,
   "metadata": {},
   "outputs": [
    {
     "name": "stdout",
     "output_type": "stream",
     "text": [
      "cpu\n"
     ]
    }
   ],
   "source": [
    "device = torch.device(\"cuda:0\" if torch.cuda.is_available() else \"cpu\")\n",
    "\n",
    "print(device)"
   ]
  },
  {
   "cell_type": "code",
   "execution_count": 115,
   "metadata": {},
   "outputs": [],
   "source": [
    "net.to(device)\n",
    "\n",
    "inputs, labels = inputs.to(device), labels.to(device)"
   ]
  },
  {
   "cell_type": "markdown",
   "metadata": {},
   "source": [
    "#### 数据并行处理，多个GPU"
   ]
  },
  {
   "cell_type": "code",
   "execution_count": 118,
   "metadata": {},
   "outputs": [],
   "source": [
    "import torch\n",
    "import torch.nn as nn\n",
    "from torch.utils.data import Dataset, DataLoader"
   ]
  },
  {
   "cell_type": "code",
   "execution_count": 119,
   "metadata": {},
   "outputs": [],
   "source": [
    "input_size = 5\n",
    "output_size = 2\n",
    "batch_size = 30\n",
    "data_size = 100"
   ]
  },
  {
   "cell_type": "code",
   "execution_count": 120,
   "metadata": {},
   "outputs": [],
   "source": [
    "device = torch.device(\"cuda:0\" if torch.cuda.is_available() else \"cpu\")"
   ]
  },
  {
   "cell_type": "code",
   "execution_count": 121,
   "metadata": {},
   "outputs": [],
   "source": [
    "class RandomDataset(Dataset):\n",
    "    def __init__(self, size, length):\n",
    "        self.len = length\n",
    "        self.data = torch.randn(length, size)\n",
    "        \n",
    "    def __getitem__(self, index):\n",
    "        return self.data[index]\n",
    "    \n",
    "    def __len__(self):\n",
    "        return self.len\n",
    "    \n",
    "rand_loader = DataLoader(dataset=RandomDataset(input_size, data_size),batch_size=batch_size, shuffle=True)\n"
   ]
  },
  {
   "cell_type": "code",
   "execution_count": 122,
   "metadata": {},
   "outputs": [],
   "source": [
    "class Model(nn.Module):\n",
    " # Our model\n",
    "    def __init__(self, input_size, output_size):\n",
    "        super(Model, self).__init__()\n",
    "        self.fc = nn.Linear(input_size, output_size)\n",
    "    \n",
    "    def forward(self, input):\n",
    "        output = self.fc(input)\n",
    "        print(\"\\tIn Model: input size\", input.size(), \"output size\", output.size())\n",
    "        return output"
   ]
  },
  {
   "cell_type": "code",
   "execution_count": 123,
   "metadata": {},
   "outputs": [
    {
     "data": {
      "text/plain": [
       "Model(\n",
       "  (fc): Linear(in_features=5, out_features=2, bias=True)\n",
       ")"
      ]
     },
     "execution_count": 123,
     "metadata": {},
     "output_type": "execute_result"
    }
   ],
   "source": [
    "model = Model(input_size, output_size)\n",
    "if torch.cuda.device_count() > 1:\n",
    "    print(\"Let's use\", torch.cuda.device_count(), \"GPUs!\")\n",
    "    # dim = 0 [30, xxx] -> [10, ...], [10, ...], [10, ...] on 3 GPUs\n",
    "    model = nn.DataParallel(model)\n",
    "model.to(device)\n",
    "# 并行处理的关键是，nn.DataParallel"
   ]
  },
  {
   "cell_type": "code",
   "execution_count": 125,
   "metadata": {},
   "outputs": [
    {
     "name": "stdout",
     "output_type": "stream",
     "text": [
      "\tIn Model: input size torch.Size([30, 5]) output size torch.Size([30, 2])\n",
      "Outside: input size torch.Size([30, 5]) output_size torch.Size([30, 2])\n",
      "\tIn Model: input size torch.Size([30, 5]) output size torch.Size([30, 2])\n",
      "Outside: input size torch.Size([30, 5]) output_size torch.Size([30, 2])\n",
      "\tIn Model: input size torch.Size([30, 5]) output size torch.Size([30, 2])\n",
      "Outside: input size torch.Size([30, 5]) output_size torch.Size([30, 2])\n",
      "\tIn Model: input size torch.Size([10, 5]) output size torch.Size([10, 2])\n",
      "Outside: input size torch.Size([10, 5]) output_size torch.Size([10, 2])\n"
     ]
    }
   ],
   "source": [
    "for data in rand_loader:\n",
    "    input = data.to(device)\n",
    "    output = model(input)\n",
    "    print(\"Outside: input size\", input.size(), \"output_size\", output.size())"
   ]
  },
  {
   "cell_type": "code",
   "execution_count": null,
   "metadata": {},
   "outputs": [],
   "source": []
  }
 ],
 "metadata": {
  "kernelspec": {
   "display_name": "Python 3",
   "language": "python",
   "name": "python3"
  },
  "language_info": {
   "codemirror_mode": {
    "name": "ipython",
    "version": 3
   },
   "file_extension": ".py",
   "mimetype": "text/x-python",
   "name": "python",
   "nbconvert_exporter": "python",
   "pygments_lexer": "ipython3",
   "version": "3.6.10"
  }
 },
 "nbformat": 4,
 "nbformat_minor": 4
}
