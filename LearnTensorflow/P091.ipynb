{
 "cells": [
  {
   "cell_type": "markdown",
   "metadata": {},
   "source": [
    "## 第3张 运作方式\n",
    "\n",
    "- 综述\n",
    "- 变量：创建、初始化、保存和加载\n",
    "- TensorBoard：可视化学习\n",
    "- TensorBoard：图表可视化\n",
    "- 数据读取\n",
    "- 线程和队列\n",
    "- 增加一个新Op\n",
    "- 自定义数据读取\n",
    "- 使用GPUs\n",
    "- 共享变量"
   ]
  },
  {
   "cell_type": "code",
   "execution_count": null,
   "metadata": {},
   "outputs": [],
   "source": []
  }
 ],
 "metadata": {
  "kernelspec": {
   "display_name": "Python 3",
   "language": "python",
   "name": "python3"
  },
  "language_info": {
   "codemirror_mode": {
    "name": "ipython",
    "version": 3
   },
   "file_extension": ".py",
   "mimetype": "text/x-python",
   "name": "python",
   "nbconvert_exporter": "python",
   "pygments_lexer": "ipython3",
   "version": "3.6.12"
  }
 },
 "nbformat": 4,
 "nbformat_minor": 4
}
