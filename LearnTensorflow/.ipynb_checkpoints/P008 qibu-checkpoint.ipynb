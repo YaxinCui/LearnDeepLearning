{
 "cells": [
  {
   "cell_type": "markdown",
   "metadata": {},
   "source": [
    "## 第一章 起步\n",
    "\n",
    "- 简介\n",
    "- 下载与安装\n",
    "- 基本使用"
   ]
  },
  {
   "cell_type": "code",
   "execution_count": 42,
   "metadata": {},
   "outputs": [
    {
     "name": "stdout",
     "output_type": "stream",
     "text": [
      "0 [[-0.44216108  0.35331267]] [0.9826096]\n",
      "20 [[-0.03490521  0.17342135]] [0.37992156]\n",
      "40 [[0.07401735 0.18765137]] [0.31919065]\n",
      "60 [[0.09496708 0.19532934]] [0.30491433]\n",
      "80 [[0.09901606 0.1983728 ]] [0.30133587]\n",
      "100 [[0.09980481 0.19945548]] [0.30038148]\n",
      "120 [[0.09996038 0.19982165]] [0.30011305]\n",
      "140 [[0.09999168 0.1999423 ]] [0.30003437]\n",
      "160 [[0.09999818 0.19998148]] [0.30001062]\n",
      "180 [[0.09999956 0.19999407]] [0.30000332]\n",
      "200 [[0.09999989 0.19999813]] [0.30000106]\n"
     ]
    }
   ],
   "source": [
    "import tensorflow as tf\n",
    "import numpy as np\n",
    "\n",
    "# 使用 NumPy 生成假数据(phony data), 总共 100 个点.\n",
    "x_data = np.float32(np.random.rand(2, 100)) # 随机输入\n",
    "y_data = np.dot([0.100, 0.200], x_data) + 0.300\n",
    "\n",
    "# 构造一个线性模型\n",
    "#\n",
    "b = tf.Variable(tf.zeros([1]))\n",
    "W = tf.Variable(tf.random_uniform([1, 2], -1.0, 1.0))\n",
    "y = tf.matmul(W, x_data) + b\n",
    "\n",
    "# 最小化方差\n",
    "loss = tf.reduce_mean(tf.square(y - y_data))\n",
    "optimizer = tf.train.GradientDescentOptimizer(0.5)\n",
    "train = optimizer.minimize(loss)\n",
    "\n",
    "# loss，optimizer，train定义好了就会自己训练吗\n",
    "\n",
    "# 初始化变量\n",
    "init = tf.initialize_all_variables()\n",
    "# 为什么要初始化变量，有什么变量需要初始化，好像是初始化Variable\n",
    "\n",
    "# 启动图 (graph)\n",
    "sess = tf.Session()\n",
    "sess.run(init)\n",
    "\n",
    "# 拟合平面\n",
    "for step in range(0, 201):\n",
    "    sess.run(train)\n",
    "    \n",
    "    if step % 20 == 0:\n",
    "        print(step, sess.run(W), sess.run(b))\n",
    "    # 得到最佳拟合结果 W: [[0.100 0.200]], b: [0.300]\n"
   ]
  },
  {
   "cell_type": "code",
   "execution_count": 2,
   "metadata": {},
   "outputs": [
    {
     "name": "stdout",
     "output_type": "stream",
     "text": [
      "b'Hello, TensorFlow!'\n",
      "42\n"
     ]
    }
   ],
   "source": [
    "import tensorflow as tf\n",
    "hello = tf.constant('Hello, TensorFlow!')\n",
    "sess = tf.Session()\n",
    "print(sess.run(hello))\n",
    "\n",
    "a = tf.constant(10)\n",
    "b = tf.constant(32)\n",
    "print(sess.run(a+b))\n"
   ]
  },
  {
   "cell_type": "markdown",
   "metadata": {},
   "source": [
    "### 基本使用\n",
    "使用图Graph来表示计算任务\n",
    "- 使用图（graph）来表示计算任务\n",
    "- 在被称为（会话session）的上下文（context）中执行图\n",
    "- 使用tensor表示数据\n",
    "- 通过变量（Variable）维护状态\n",
    "- 使用feed和fetch可以为任意操作（arbitrary operation）赋值或者从其中获取数据\n",
    "\n",
    "### 综述\n",
    "Tensorflow是一个编程系统，使用图来表示计算任务，图中的节点被称至为op(operation的缩写)，一个op获得0个或多个Tensor，每个Tensor是一个类型化的多维数组，例如，可以将一小组图像集表示为一个四维浮点数数组[batch, height, width, channels]\n",
    "\n",
    "一个Tensor图描述了计算的过程，为了进行计算，图必须在会话里被启动，会话将图的op分发到CPU或GPU之类的设备上，同时提供op的方法，这些方法执行后，将产生的tensor返回，在python语言中，返回的tensor是numpy ndarray对象。\n",
    "\n",
    "### 计算图\n",
    "TensorFlow程序通常被组织称一个构建阶段和一个执行阶段。\n",
    "通常在构建阶段创建一个图来表示和训练神经网络，然后在执行阶段反复执行图中的训练Op。\n",
    "TensorFlow支持C，C++，Python编程语言，目前Tensorflow的python库更加易用。\n",
    "\n",
    "三种语言的会话库是一致的。\n",
    "\n",
    "#### 构建图\n",
    "创建源op（source op），源op不需要任何输入，例如常量（Constant），源op的输出被传递给其他op做计算。\n",
    "\n",
    "Python库中，op构造器的返回值代表被构造出的op的输出，这些返回值可以传递给其他op构造器作为输入。"
   ]
  },
  {
   "cell_type": "code",
   "execution_count": 3,
   "metadata": {},
   "outputs": [
    {
     "name": "stdout",
     "output_type": "stream",
     "text": [
      "(1, 2)\n"
     ]
    }
   ],
   "source": [
    "import tensorflow as tf\n",
    "\n",
    "\n",
    "# 创建一个常量 op, 产生一个 1x2 矩阵. 这个 op 被作为一个节点\n",
    "# 加到默认图中.\n",
    "#\n",
    "# 构造器的返回值代表该常量 op 的返回值.\n",
    "matrix1 = tf.constant([[3., 3.]])\n",
    "\n",
    "\n",
    "# 创建另外一个常量 op, 产生一个 1 x 2 矩阵.\n",
    "matrix2 = tf.constant([[2.],[2.]])\n",
    "\n",
    "\n",
    "# 创建一个矩阵乘法 matmul op , 把 'matrix1' 和 'matrix2' 作为输入.\n",
    "# 返回值 'product' 代表矩阵乘法的结果.\n",
    "product = tf.matmul(matrix1, matrix2)\n"
   ]
  },
  {
   "cell_type": "code",
   "execution_count": 4,
   "metadata": {},
   "outputs": [
    {
     "name": "stdout",
     "output_type": "stream",
     "text": [
      "Tensor(\"MatMul:0\", shape=(1, 1), dtype=float32)\n"
     ]
    }
   ],
   "source": [
    "print(product)"
   ]
  },
  {
   "cell_type": "code",
   "execution_count": 5,
   "metadata": {},
   "outputs": [
    {
     "name": "stdout",
     "output_type": "stream",
     "text": [
      "[[12.]]\n"
     ]
    }
   ],
   "source": [
    "# 构造阶段完成后，才能启动图，启动图的第一步是创建一个Session对象，如果无任何创建参数，会话构造器将启动默认图。\n",
    "\n",
    "sess = tf.Session()\n",
    "\n",
    "result = sess.run(product)\n",
    "print(result)\n",
    "# 计算图的输出是什么，假如有多个输出怎么办\n",
    "\n",
    "sess.close()"
   ]
  },
  {
   "cell_type": "code",
   "execution_count": 6,
   "metadata": {},
   "outputs": [
    {
     "name": "stdout",
     "output_type": "stream",
     "text": [
      "[array([[12.]], dtype=float32)]\n"
     ]
    }
   ],
   "source": [
    "## Session对象在使用完后需要关闭以释放资源，除了显示调用close外，也可以使用 with 代码块，自动完成关闭动作\n",
    "\n",
    "with tf.Session() as sess:\n",
    "    result = sess.run([product])\n",
    "    print(result)"
   ]
  },
  {
   "cell_type": "raw",
   "metadata": {},
   "source": [
    "## 如果机器上有超过1个GPU可以使用，除第一个外的其他GPU是不参与计算的，为了让Tensorflow使用这些GPU，你必须将op明确指派给他们执行。\n",
    "\n",
    "with .. Device语句用来指派特定的CPU或GPU执行操作"
   ]
  },
  {
   "cell_type": "code",
   "execution_count": 9,
   "metadata": {},
   "outputs": [
    {
     "name": "stdout",
     "output_type": "stream",
     "text": [
      "[array([[12.]], dtype=float32)]\n"
     ]
    }
   ],
   "source": [
    "with tf.Session() as sess:\n",
    "    with tf.device(\"/gpu:1\"):\n",
    "        matrix1 = tf.constant([[3., 3.]])\n",
    "        matrix2 = tf.constant([[2.], [2.]])\n",
    "        product = tf.matmul(matrix1, matrix2)\n",
    "        print(sess.run([product]))"
   ]
  },
  {
   "cell_type": "markdown",
   "metadata": {},
   "source": [
    "### 交互式使用\n",
    "文档中的python示例使用一个会话Session来启动图，并调用Session.run()方法执行操作。\n",
    "为了便于使用Ipython之类的Python交互环境使用，可以使用InteractiveSession代替Session类，使用Tensor.eval()和Operation.run()方法代替Session.run()，这样可以避免使用一个变量来持有会话。"
   ]
  },
  {
   "cell_type": "code",
   "execution_count": 11,
   "metadata": {},
   "outputs": [
    {
     "name": "stdout",
     "output_type": "stream",
     "text": [
      "[-2. -1.]\n"
     ]
    },
    {
     "name": "stderr",
     "output_type": "stream",
     "text": [
      "/data/miniconda3/envs/tf1.14/lib/python3.6/site-packages/tensorflow/python/client/session.py:1735: UserWarning: An interactive session is already active. This can cause out-of-memory errors in some cases. You must explicitly call `InteractiveSession.close()` to release resources held by the other session(s).\n",
      "  warnings.warn('An interactive session is already active. This can '\n"
     ]
    }
   ],
   "source": [
    "import tensorflow as tf\n",
    "sess = tf.InteractiveSession()\n",
    "\n",
    "x = tf.Variable([1.0, 2.0])\n",
    "a = tf.constant([3.0, 3.0])\n",
    "\n",
    "# 使用初始化器 initialize op的run方法初始化 x\n",
    "\n",
    "x.initializer.run()\n",
    "\n",
    "# 增加一个减法 sub op，从'x'减轻a，运行减法op，输出结果\n",
    "\n",
    "sub = tf.subtract(x, a)\n",
    "print(sub.eval())"
   ]
  },
  {
   "cell_type": "markdown",
   "metadata": {},
   "source": [
    "## Tensor\n",
    "\n",
    "TensorFlow程序使用tensor数据结构来代表所有的数据，计算图中，操作间传递的数据都是tensor，你可以把TensorFlow tensor看作是一个n维的数组或列表。一个tensor包含一个静态类型rank，一个shape。"
   ]
  },
  {
   "cell_type": "code",
   "execution_count": 53,
   "metadata": {},
   "outputs": [
    {
     "name": "stdout",
     "output_type": "stream",
     "text": [
      "0\n",
      "1\n",
      "1\n",
      "1\n",
      "2\n",
      "2\n",
      "2\n",
      "3\n",
      "3\n"
     ]
    }
   ],
   "source": [
    "## 变量\n",
    "# 变量维护图执行过程中的状态信息。下面的例子演示了如何使用变量实现一个简单的计数器，\n",
    "\n",
    "## 创建一个变量，初始化为标量0\n",
    "\n",
    "state = tf.Variable(0, name=\"counter\")\n",
    "\n",
    "# 创建一个Op，其作用是使state增加1\n",
    "\n",
    "one = tf.constant(1)\n",
    "\n",
    "new_value = tf.add(state, one)\n",
    "update = tf.assign(state, new_value)\n",
    "\n",
    "# 启动图后，变量必须先经过”初始化“（init）op初始化\n",
    "\n",
    "init_op = tf.initialize_all_variables()\n",
    "\n",
    "# 启动图，运行op\n",
    "\n",
    "with tf.Session() as sess:\n",
    "    # 运行 init op\n",
    "    sess.run(init_op)\n",
    "    # 打印 'state'的初始值\n",
    "    # print(sess.run(state))\n",
    "    \n",
    "    # 运行op，更新state，并打印state\n",
    "    for _ in range(3):\n",
    "        print(sess.run(state))\n",
    "        print(sess.run(new_value))\n",
    "        print(sess.run(update))\n",
    "        # print(sess.run(state))\n",
    "        \n",
    "# tensorflow的执行过程到底是怎么样的\n",
    "        \n",
    "# 代码中assign()操作是图所描绘的表达式的一部分，正如add()操作一样，所以在调用run()执行表达式之前，它并不会真正执行赋值操作\n",
    "\n",
    "# 通常会将一个统计模型中的参数表示为一组变量，例如，你可以将一个神经网络的权重作为某个变量存储在一个tensor中，在训练过程中，通过重复运行训练图，更新这个tensor。"
   ]
  },
  {
   "cell_type": "code",
   "execution_count": 17,
   "metadata": {},
   "outputs": [
    {
     "name": "stdout",
     "output_type": "stream",
     "text": [
      "[21.0, 7.0]\n"
     ]
    }
   ],
   "source": [
    "## Fetch\n",
    "\n",
    "# 为了取回操作的输出内容，可以在使用Session对象的run()调用执行图时，传入一些tensor，这些tensor会帮助你取回结果，在之前的例子里，我们只取回了单个节点state，但你也可以取回多个tensor\n",
    "\n",
    "input1 = tf.constant(3.0)\n",
    "input2 = tf.constant(2.0)\n",
    "input3 = tf.constant(5.0)\n",
    "\n",
    "intermed = tf.add(input2, input3)\n",
    "mul = tf.multiply(input1, intermed)\n",
    "\n",
    "with tf.Session() as sess:\n",
    "    # 在一次 run 的过程，我们可以同时获取多个值\n",
    "    \n",
    "    result = sess.run([mul, intermed])\n",
    "    print(result)"
   ]
  },
  {
   "cell_type": "code",
   "execution_count": 21,
   "metadata": {},
   "outputs": [
    {
     "name": "stdout",
     "output_type": "stream",
     "text": [
      "[array([14.], dtype=float32)]\n"
     ]
    }
   ],
   "source": [
    "## Feed\n",
    "# 临时替代Tensor\n",
    "\n",
    "# 用placeholder占位，之后通过feed喂入数据\n",
    "input1 = tf.placeholder(tf.float32)\n",
    "input2 = tf.placeholder(tf.float32)\n",
    "output = tf.multiply(input1, input2)\n",
    "\n",
    "with tf.Session() as sess:\n",
    "    print(sess.run([output], feed_dict={input1:[7.], input2:[2.]}))\n",
    "    \n",
    "# 对于大规模样例，需要正确提供feed，及placeholder()操作"
   ]
  },
  {
   "cell_type": "code",
   "execution_count": 35,
   "metadata": {},
   "outputs": [],
   "source": [
    "x = [[1,2,3],\n",
    "     [4,5,6],\n",
    "     [7,8,9]]\n",
    "# 2 3\n",
    "(0,0), (0,1), (0,2)\n",
    "(1,0), (1,1), (1,2)\n",
    "\n",
    "y = tf.cast(x, tf.float32)\n",
    "\n",
    "mean_all = tf.reduce_mean(y, axis=1, keep_dims=True)\n",
    "square_all = tf.square(y)"
   ]
  },
  {
   "cell_type": "code",
   "execution_count": 37,
   "metadata": {},
   "outputs": [
    {
     "name": "stdout",
     "output_type": "stream",
     "text": [
      "[[2.]\n",
      " [5.]\n",
      " [8.]]\n",
      "[[ 1.  4.  9.]\n",
      " [16. 25. 36.]\n",
      " [49. 64. 81.]]\n"
     ]
    }
   ],
   "source": [
    "with tf.Session() as sess:\n",
    "    a, b = sess.run([mean_all, square_all])\n",
    "    print(a)\n",
    "    print(b)"
   ]
  },
  {
   "cell_type": "code",
   "execution_count": null,
   "metadata": {},
   "outputs": [],
   "source": []
  }
 ],
 "metadata": {
  "kernelspec": {
   "display_name": "tf1.14",
   "language": "python",
   "name": "tf1.14"
  },
  "language_info": {
   "codemirror_mode": {
    "name": "ipython",
    "version": 3
   },
   "file_extension": ".py",
   "mimetype": "text/x-python",
   "name": "python",
   "nbconvert_exporter": "python",
   "pygments_lexer": "ipython3",
   "version": "3.6.12"
  }
 },
 "nbformat": 4,
 "nbformat_minor": 4
}
