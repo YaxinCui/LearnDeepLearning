{
 "cells": [
  {
   "cell_type": "markdown",
   "metadata": {},
   "source": [
    "### Tensorflow实战\n",
    "作者：黄文坚\n",
    "\n",
    "将重点从实用的层面，为读者讲解如何使用TensorFlow实现全连接神经网络、卷积神经网络、循环神经网络、乃至Deep Q-Network。\n",
    "\n",
    "- 第1-2章，介绍TensorFlow的基础知识和概念。\n",
    "- 第3-4章，介绍简单的示例及全连接神经网络\n",
    "- 第5-6章，介绍基础的卷积神经网络，及当时比较经典的神经网络\n",
    "- 第7章，介绍Word2Vec、RNN和LSTM\n",
    "- 第8章，介绍强化学习，以及基于深度学习的策略网络和估值网络。\n",
    "- 第9章，介绍了TensorBoard，单机多GPU并行，以及分布式并行\n",
    "- 第10章，介绍了TensorFlow里面的contrib.learn模块，包含许多类型的深度学习及流行的机器学习算法的使用，也解析了这个模块的Estimator的基本架构，以及如果使用Estimator快速搭建自己的分布式机器学习模型架构，进行模型的训练和评估，也介绍了如何使用监督器更好地检测和跟踪模型的训练及使用DataFrame读取不同的数据格式。\n",
    "- 第11章，介绍了Contrib模块，这个模块提供了许多机器学习需要的功能，包括统计分布、机器学习层，优化函数、指标，等等。"
   ]
  }
 ],
 "metadata": {
  "kernelspec": {
   "display_name": "tf1.14",
   "language": "python",
   "name": "tf1.14"
  },
  "language_info": {
   "codemirror_mode": {
    "name": "ipython",
    "version": 3
   },
   "file_extension": ".py",
   "mimetype": "text/x-python",
   "name": "python",
   "nbconvert_exporter": "python",
   "pygments_lexer": "ipython3",
   "version": "3.6.12"
  }
 },
 "nbformat": 4,
 "nbformat_minor": 4
}
