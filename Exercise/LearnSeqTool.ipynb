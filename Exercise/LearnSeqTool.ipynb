{
 "cells": [
  {
   "cell_type": "code",
   "execution_count": 2,
   "metadata": {},
   "outputs": [],
   "source": [
    "import torch\n",
    "from torch import nn"
   ]
  },
  {
   "cell_type": "code",
   "execution_count": 3,
   "metadata": {},
   "outputs": [],
   "source": [
    "sentences = ['I have a cat.', 'The cake is delicious.']"
   ]
  },
  {
   "cell_type": "code",
   "execution_count": null,
   "metadata": {},
   "outputs": [],
   "source": [
    "rnn = nn.LSTM(10, 20, 2) # input_size, hidden_size, num_layers\n",
    "\n",
    "inputs = torch.randn(5, 3, 10) # seq_len, batch, input_size\n"
   ]
  },
  {
   "cell_type": "code",
   "execution_count": 4,
   "metadata": {},
   "outputs": [
    {
     "name": "stdout",
     "output_type": "stream",
     "text": [
      "torch.Size([5, 1, 3])\n",
      "(tensor([[[ 0.0841,  0.3983, -0.0184]]], grad_fn=<StackBackward>), tensor([[[ 0.1080,  0.5661, -0.0539]]], grad_fn=<StackBackward>))\n"
     ]
    }
   ],
   "source": [
    "lstm = nn.LSTM(3, 3, batch_first=False) # 输入维度是3，输出维度为3\n",
    "inputs = [torch.randn(1, 3) for _ in range(5)]\n",
    "\n",
    "# 初始化隐藏状态\n",
    "hidden = (torch.randn(1, 1, 3),\n",
    "          torch.randn(1, 1, 3))\n",
    "\n",
    "# hidden的size(1, 1, 3)，为什么它第一个size为1\n",
    "# 为什么隐含状态hidden，是一个元组，而不是一个张量\n",
    "# 隐藏状态有h0 c0两个,h0 最后一个time step的输出，c0 最后一个time step的隐藏状态\n",
    "# https://pic1.zhimg.com/80/v2-ebf8cd2faa564d9d80a958dcf25e6b3b_1440w.jpg\n",
    "\n",
    "\n",
    "for i in inputs:\n",
    "    # 将序列中的元素逐个输入到LSTM\n",
    "    # 经过每步操作，hidden的值包含了隐藏状态的信息。\n",
    "    out, hidden = lstm(i.view(1, 1, -1), hidden)\n",
    "\n",
    "# 通过out，能取得任何一个时刻的隐藏状态，hidden的值是用来进行序列的反向传播。\n",
    "# 增加额外的第二个维度\n",
    "inputs = torch.cat(inputs).view(len(inputs), 1, -1) # inputs size = 5 x 1 x 3 # 因为batch_first为False，所以batch在第2位。\n",
    "\n",
    "hidden = (torch.randn(1, 1, 3), torch.randn(1, 1, 3)) # 清空隐藏状态\n",
    "out, hidden = lstm(inputs, hidden)\n",
    "print(out.size()) # out.size() 5 x 1 x 3  # 5表示迭代了5次，1表示批次，3表示输入维度\n",
    "\n",
    "print(hidden) # "
   ]
  },
  {
   "cell_type": "code",
   "execution_count": 6,
   "metadata": {},
   "outputs": [
    {
     "data": {
      "text/plain": [
       "torch.Size([5, 1, 3])"
      ]
     },
     "execution_count": 6,
     "metadata": {},
     "output_type": "execute_result"
    }
   ],
   "source": [
    "inputs.size()"
   ]
  },
  {
   "cell_type": "code",
   "execution_count": null,
   "metadata": {},
   "outputs": [],
   "source": []
  }
 ],
 "metadata": {
  "kernelspec": {
   "display_name": "Python 3",
   "language": "python",
   "name": "python3"
  },
  "language_info": {
   "codemirror_mode": {
    "name": "ipython",
    "version": 3
   },
   "file_extension": ".py",
   "mimetype": "text/x-python",
   "name": "python",
   "nbconvert_exporter": "python",
   "pygments_lexer": "ipython3",
   "version": "3.7.6"
  }
 },
 "nbformat": 4,
 "nbformat_minor": 4
}
