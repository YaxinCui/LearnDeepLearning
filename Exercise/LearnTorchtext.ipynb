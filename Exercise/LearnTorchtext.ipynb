{
 "cells": [
  {
   "cell_type": "markdown",
   "metadata": {},
   "source": [
    "### https://pytorch.org/text/\n",
    "- torchtext\n",
    "- torchtext.data\n",
    "    - Dataset, Batch, and Example\n",
    "    - Fields\n",
    "    - Iterators\n",
    "    - Pipeline\n",
    "    - Function\n",
    "- torch.data.utils\n",
    "    - get_tokenizer\n",
    "    - ngrams_iterator\n",
    "- torch.data.functional\n",
    "    - generate_sp_model\n",
    "    - load_sp_model\n",
    "    - sentencepiece_numericalizer\n",
    "    - sentencepiece_tokenizer\n",
    "    - custom_replace\n",
    "    - simple_space_split\n",
    "    - numericalize_tokens_from_iterator\n",
    "- torchtext.data.metrics\n",
    "    - bleu_score\n",
    "- torchtext.datasets\n",
    "    - Language Modeling\n",
    "    - SentimentAnalysis\n",
    "    - TextClassification\n",
    "    - Question Classification\n",
    "    - Entailment\n",
    "    - Machine Translation\n",
    "    - Sequence Tagging\n",
    "    - Question Answering\n",
    "    - Unsupervised Learning\n",
    "- torchtext.vocab\n",
    "    - vocab\n",
    "    - SubwordVocab\n",
    "    - Vectors\n",
    "    - Glove\n",
    "    - FastText\n",
    "    - CharNGram\n",
    "    - build_vocab_from_iterator\n",
    "- torchtext.utils\n",
    "    - reporthook\n",
    "    - download_from_url\n",
    "    - unicode_csv_reader\n",
    "    - extract_archive\n",
    "- torchtext.experimental.datasets\n",
    "    -...\n",
    "- torchtext.experimental.transforms\n",
    "    - BasicEnglishNormalize\n",
    "    - RegexTokenizer\n",
    "- torchtext.experimental.vectors\n",
    "    - Vector\n",
    "    - vectors_fiom_file_object\n",
    "    - FastText\n",
    "    - Glove\n",
    "    "
   ]
  },
  {
   "cell_type": "code",
   "execution_count": 5,
   "metadata": {},
   "outputs": [
    {
     "name": "stderr",
     "output_type": "stream",
     "text": [
      "/root/miniconda3/lib/python3.7/site-packages/torchtext/data/field.py:150: UserWarning: Field class will be retired in the 0.8.0 release and moved to torchtext.legacy. Please see 0.7.0 release notes for further information.\n",
      "  warnings.warn('{} class will be retired in the 0.8.0 release and moved to torchtext.legacy. Please see 0.7.0 release notes for further information.'.format(self.__class__.__name__), UserWarning)\n"
     ]
    }
   ],
   "source": [
    "tokenize = lambda x:x.split()\n",
    "\n",
    "TEXT = Field(sequential=True, tokenize=tokenize, lower=True)\n",
    "\n",
    "LABEL = Field(sequential=False, use_vocab=False)"
   ]
  },
  {
   "cell_type": "code",
   "execution_count": null,
   "metadata": {},
   "outputs": [],
   "source": []
  }
 ],
 "metadata": {
  "kernelspec": {
   "display_name": "Python 3",
   "language": "python",
   "name": "python3"
  },
  "language_info": {
   "codemirror_mode": {
    "name": "ipython",
    "version": 3
   },
   "file_extension": ".py",
   "mimetype": "text/x-python",
   "name": "python",
   "nbconvert_exporter": "python",
   "pygments_lexer": "ipython3",
   "version": "3.7.6"
  }
 },
 "nbformat": 4,
 "nbformat_minor": 4
}
